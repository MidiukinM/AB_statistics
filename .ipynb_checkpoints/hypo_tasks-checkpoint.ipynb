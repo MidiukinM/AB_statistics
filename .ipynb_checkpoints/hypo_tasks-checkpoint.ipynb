{
 "cells": [
  {
   "cell_type": "code",
   "execution_count": 47,
   "id": "median-eight",
   "metadata": {},
   "outputs": [],
   "source": [
    "import numpy as np   \n",
    "import pandas as pd        \n",
    "from scipy import stats as sts \n",
    "\n",
    "import matplotlib.pyplot as plt\n",
    "import seaborn as sns\n",
    "\n",
    "%matplotlib inline \n",
    "\n",
    "from math import factorial as fact"
   ]
  },
  {
   "cell_type": "markdown",
   "id": "quick-priest",
   "metadata": {},
   "source": [
    "### Problem #1: Lying James Bond\n",
    "\n",
    "<img src=\"images/bond.png\" width=\"600\">\n",
    "\n",
    "Your friend James Bond claims that he knows how to distinguish a shaken martini from a mixed one. You decided to check it out. To do this, you blindfolded James and gave him a martini 10 times. Bond guessed 6 times and did not guess 4 times. Let's test the hypothesis that Bond knows how to distinguish martinis using the sign test.\n",
    "\n",
    "*sample:* $1, 0, 0, 1, 1, 0, 0, 1, 1, 1$"
   ]
  },
  {
   "cell_type": "code",
   "execution_count": 91,
   "id": "classified-obligation",
   "metadata": {},
   "outputs": [],
   "source": [
    "X = np.array([1, 0, 0, 1, 1, 0, 0, 1, 1, 1])\n",
    "n = len(X)\n",
    "alpha = 0.05"
   ]
  },
  {
   "cell_type": "markdown",
   "id": "destroyed-astronomy",
   "metadata": {},
   "source": [
    "**Solution (z-test for proportion):**\n",
    "\n",
    "$$\n",
    "H_0: p \\le 0.5 \\\\\n",
    "H_1: p > 0.5\n",
    "$$\n",
    "\n",
    "$$\n",
    "H_0: p = 0.5 \\\\ \n",
    "H_1: p > 0.5 \n",
    "$$\n",
    "\n",
    "\n",
    "$$\n",
    "z = \\frac{\\hat p - 0.5}{\\sqrt{\\frac{0.5 (1 - 0.5)}{10}}} \\sim_{n \\rightarrow \\infty} \\mathcal{N}(0, 1)\n",
    "$$"
   ]
  },
  {
   "cell_type": "code",
   "execution_count": 92,
   "id": "pursuant-enough",
   "metadata": {},
   "outputs": [
    {
     "name": "stdout",
     "output_type": "stream",
     "text": [
      "0.6324555320336757\n",
      "not rejected\n"
     ]
    }
   ],
   "source": [
    "p_hat = np.mean(X)\n",
    "p_0 = 0.5\n",
    "denom = ((p_0 * (1-p_0)) / 10)**(1/2)\n",
    "\n",
    "z_obs = (p_hat - p_0) / denom\n",
    "z_cr = sts.norm.ppf(q=(1 - alpha), loc=0, scale=1)\n",
    "\n",
    "print(z_obs)\n",
    "\n",
    "if z_obs > z_cr:\n",
    "    print('rejected')\n",
    "else:\n",
    "    print('not rejected')"
   ]
  },
  {
   "cell_type": "markdown",
   "id": "relative-difference",
   "metadata": {},
   "source": [
    "### Problem #1: Restaurants lover\n",
    "\n",
    "Your friend really likes to go to restaurants and save money. He told you that you can eat at a good restaurant for $50\\$$. You decided to test this hypothesis. To do this, you visited 10 restaurants, and saved the amount of the bill in each of them. Let's check the hypothesis if you spend less or equal than $50\\$$ 4 times.\n",
    "\n",
    "sample: $43, 70, 104, 32, 60, 49, 51, 80, 38, 98$"
   ]
  },
  {
   "cell_type": "code",
   "execution_count": 84,
   "id": "dominican-findings",
   "metadata": {},
   "outputs": [],
   "source": [
    "X = np.array([43, 70, 104, 32, 60, 49, 51, 80, 38, 98])\n",
    "n = len(X)\n",
    "alpha = 0.05"
   ]
  },
  {
   "cell_type": "markdown",
   "id": "competent-walnut",
   "metadata": {},
   "source": [
    "**Solution (t-test):**\n",
    "\n",
    "$$\n",
    "H_0: \\mu = 50 \\\\ \n",
    "H_1: \\mu > 50\n",
    "$$\n",
    "\n",
    "$$\n",
    "t = \\frac{\\bar x - \\mu_0}{\\frac{S}{\\sqrt n}} \\sim t(n-1)\n",
    "$$ "
   ]
  },
  {
   "cell_type": "code",
   "execution_count": 85,
   "id": "trying-translator",
   "metadata": {},
   "outputs": [
    {
     "name": "stdout",
     "output_type": "stream",
     "text": [
      "1.5879996942006929\n",
      "not rejected\n"
     ]
    }
   ],
   "source": [
    "t_obs = (np.mean(X) - 50) / (np.std(X, ddof=1) / n**(1/2))\n",
    "t_cr = sts.t.ppf(q=(1 - alpha), df=n-1)\n",
    "\n",
    "print(t_obs)\n",
    "\n",
    "if t_obs > t_cr:\n",
    "    print('rejected')\n",
    "else:\n",
    "    print('not rejected')"
   ]
  },
  {
   "cell_type": "code",
   "execution_count": 86,
   "id": "hairy-raising",
   "metadata": {},
   "outputs": [
    {
     "data": {
      "text/plain": [
       "Ttest_1sampResult(statistic=1.5879996942006929, pvalue=0.07337445229162502)"
      ]
     },
     "execution_count": 86,
     "metadata": {},
     "output_type": "execute_result"
    }
   ],
   "source": [
    "sts.ttest_1samp(X, 50, axis=0, alternative='greater')"
   ]
  },
  {
   "cell_type": "markdown",
   "id": "public-modeling",
   "metadata": {},
   "source": [
    "**Solution (the sign test):**\n",
    "\n",
    "$$\n",
    "H_0: Med(X) = 50 \\\\ \n",
    "H_1: Med(X) > 50\n",
    "$$\n",
    "\n",
    "$$\n",
    "T = \\sum_{i=1}^n [X_i > m_0] \\sim Bin(0.5, 10)\n",
    "$$\n",
    "\n",
    "$T$ $-$ number of restaurants with the bill less or equal $50\\$$\n",
    "\n",
    "sample distribution: \n",
    "$$\n",
    "\\mathbb{P}(T=k) = C_n^k \\cdot p^k \\cdot (1-p)^{n-k} \n",
    "$$"
   ]
  },
  {
   "cell_type": "code",
   "execution_count": 90,
   "id": "accurate-affairs",
   "metadata": {},
   "outputs": [
    {
     "name": "stdout",
     "output_type": "stream",
     "text": [
      "p-value: 0.376953125\n",
      "not rejected\n"
     ]
    },
    {
     "data": {
      "image/png": "[encoded data removed]",
      "text/plain": [
       "<Figure size 432x288 with 1 Axes>"
      ]
     },
     "metadata": {
      "needs_background": "light"
     },
     "output_type": "display_data"
    }
   ],
   "source": [
    "def comb(n, k):\n",
    "    return fact(n) / (fact(k) * fact(n-k))\n",
    "\n",
    "def bin_prob(k, n=n, p=0.5):\n",
    "    return comb(n, k) * p**k * (1-p)**(n-k)\n",
    "\n",
    "ks = list(range(n+1))\n",
    "probs = [bin_prob(prob) for prob in ks]\n",
    "\n",
    "k_obs = sum(X <= 50) + 1\n",
    "\n",
    "pval = sum(probs[:k_obs])\n",
    "print(f'p-value: {pval}')\n",
    "\n",
    "if pval < alpha:\n",
    "    print('rejected')\n",
    "else:\n",
    "    print('not rejected')\n",
    "    \n",
    "    \n",
    "plt.scatter(x=ks[:k_obs], y=probs[:k_obs], color='violet');\n",
    "plt.scatter(x=ks[k_obs:], y=probs[k_obs:]);"
   ]
  },
  {
   "cell_type": "code",
   "execution_count": null,
   "id": "domestic-turkey",
   "metadata": {},
   "outputs": [],
   "source": []
  },
  {
   "cell_type": "code",
   "execution_count": null,
   "id": "capital-looking",
   "metadata": {},
   "outputs": [],
   "source": []
  },
  {
   "cell_type": "code",
   "execution_count": null,
   "id": "improving-president",
   "metadata": {},
   "outputs": [],
   "source": []
  },
  {
   "cell_type": "code",
   "execution_count": null,
   "id": "steady-outline",
   "metadata": {},
   "outputs": [],
   "source": []
  },
  {
   "cell_type": "code",
   "execution_count": null,
   "id": "inner-techno",
   "metadata": {},
   "outputs": [],
   "source": []
  },
  {
   "cell_type": "code",
   "execution_count": null,
   "id": "optional-breast",
   "metadata": {},
   "outputs": [],
   "source": []
  },
  {
   "cell_type": "code",
   "execution_count": null,
   "id": "moderate-rescue",
   "metadata": {},
   "outputs": [],
   "source": []
  },
  {
   "cell_type": "markdown",
   "id": "alpine-failing",
   "metadata": {},
   "source": [
    "### Problem #2: Lying James Bond\n",
    "\n",
    "\n",
    "\n",
    "Your friend James Bond claims that he knows how to distinguish a shaken martini from a mixed one. You decided to check it out. To do this, you blindfolded James and gave him a martini 10 times. Bond guessed 6 times and did not guess 4 times. Let's test the hypothesis that Bond knows how to distinguish martinis using the sign test."
   ]
  },
  {
   "cell_type": "markdown",
   "id": "noted-update",
   "metadata": {},
   "source": [
    "**Solution:**\n",
    "\n",
    "1. Our sample: $1, 0, 0, 1, 1, 0, 0, 1, 1, 1$\n",
    "2. $H_0: p \\le 0.5 \\quad H_0: p = 0.5 \\\\ H_1: p > 0.5 \\quad  H_1: p > 0.5$\n",
    "3. sample distribution: "
   ]
  },
  {
   "cell_type": "code",
   "execution_count": null,
   "id": "architectural-territory",
   "metadata": {},
   "outputs": [],
   "source": []
  }
 ],
 "metadata": {
  "kernelspec": {
   "display_name": "Python 3",
   "language": "python",
   "name": "python3"
  },
  "language_info": {
   "codemirror_mode": {
    "name": "ipython",
    "version": 3
   },
   "file_extension": ".py",
   "mimetype": "text/x-python",
   "name": "python",
   "nbconvert_exporter": "python",
   "pygments_lexer": "ipython3",
   "version": "3.9.2"
  },
  "varInspector": {
   "cols": {
    "lenName": 16,
    "lenType": 16,
    "lenVar": 40
   },
   "kernels_config": {
    "python": {
     "delete_cmd_postfix": "",
     "delete_cmd_prefix": "del ",
     "library": "var_list.py",
     "varRefreshCmd": "print(var_dic_list())"
    },
    "r": {
     "delete_cmd_postfix": ") ",
     "delete_cmd_prefix": "rm(",
     "library": "var_list.r",
     "varRefreshCmd": "cat(var_dic_list()) "
    }
   },
   "types_to_exclude": [
    "module",
    "function",
    "builtin_function_or_method",
    "instance",
    "_Feature"
   ],
   "window_display": false
  }
 },
 "nbformat": 4,
 "nbformat_minor": 5
}
