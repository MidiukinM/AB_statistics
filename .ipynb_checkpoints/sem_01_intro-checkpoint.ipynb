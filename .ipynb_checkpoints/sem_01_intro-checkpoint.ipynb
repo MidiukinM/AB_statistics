{
 "cells": [
  {
   "cell_type": "markdown",
   "id": "excited-throat",
   "metadata": {},
   "source": [
    "# Experiment testing\n",
    "\n",
    "## Seminar №1: Intro to A/B-tests."
   ]
  },
  {
   "cell_type": "markdown",
   "id": "empty-stable",
   "metadata": {},
   "source": [
    "> \"Making decisions is easy — what’s hard is making the right decisions.\""
   ]
  },
  {
   "cell_type": "markdown",
   "id": "gothic-nursery",
   "metadata": {},
   "source": [
    "### 1. Sense"
   ]
  },
  {
   "cell_type": "markdown",
   "id": "spectacular-illustration",
   "metadata": {},
   "source": [
    "Every day we use a bunch of apps. Some of them are convenient and attractive to us, some aren't. Usually, we don't think about what exactly makes an app attractive, sometimes even thinking about it, we can't identify certain criteria, we rely only on our feelings. \n",
    "\n",
    "Now imagine that you are the creator of new app (some product) and of course you want to make this useful and attractive to users. How can you do that if you don't understand how it works? We all have a subjective view and what seems obviously good to one may not be so for most others. \n",
    "\n",
    "**The answer is \"ask your users\"**."
   ]
  },
  {
   "cell_type": "markdown",
   "id": "controlling-journalism",
   "metadata": {},
   "source": [
    "Of course we can't call everyone and ask them which design is better, it's very costly for us. But we can use math statistics and conduct an **A/B-test**. "
   ]
  },
  {
   "cell_type": "markdown",
   "id": "sudden-queensland",
   "metadata": {},
   "source": [
    "### 2. Definition"
   ]
  },
  {
   "cell_type": "markdown",
   "id": "specific-ireland",
   "metadata": {},
   "source": [
    "**It all starts with a hypothesis.**\n",
    "\n",
    "Suppose we want to check whether the black and white color scheme of the Google logo is better choice than multicolored. \n",
    "\n",
    "To run the experiment, we should:\n",
    "1. take a subset of our members\n",
    "2. evenly split them into two groups (_control_ and _treatment_) using _random assignment_\n",
    "3. show old multicolored design to users in group A and new black and white logo to users in group B for several days\n",
    "3. analyzing the users behavior, calculate a specific pre-selected metric by users everyday\n",
    "4. aggregate our metrics data (using `mean`, for example)\n",
    "5. compare between 2 groups\n",
    "\n",
    "<img src=\"images/ab_scheme.png\" width=\"600\">\n",
    "\n",
    "It sounds easy, but in fact it's not that simple. How to compare metrics? How to divide users into groups? Which metric should I choose? There are still a lot of questions, each of which we will be able to answer soon."
   ]
  }
 ],
 "metadata": {
  "kernelspec": {
   "display_name": "Python 3",
   "language": "python",
   "name": "python3"
  },
  "language_info": {
   "codemirror_mode": {
    "name": "ipython",
    "version": 3
   },
   "file_extension": ".py",
   "mimetype": "text/x-python",
   "name": "python",
   "nbconvert_exporter": "python",
   "pygments_lexer": "ipython3",
   "version": "3.9.2"
  },
  "varInspector": {
   "cols": {
    "lenName": 16,
    "lenType": 16,
    "lenVar": 40
   },
   "kernels_config": {
    "python": {
     "delete_cmd_postfix": "",
     "delete_cmd_prefix": "del ",
     "library": "var_list.py",
     "varRefreshCmd": "print(var_dic_list())"
    },
    "r": {
     "delete_cmd_postfix": ") ",
     "delete_cmd_prefix": "rm(",
     "library": "var_list.r",
     "varRefreshCmd": "cat(var_dic_list()) "
    }
   },
   "types_to_exclude": [
    "module",
    "function",
    "builtin_function_or_method",
    "instance",
    "_Feature"
   ],
   "window_display": false
  }
 },
 "nbformat": 4,
 "nbformat_minor": 5
}
