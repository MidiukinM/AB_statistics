{
 "cells": [
  {
   "cell_type": "markdown",
   "id": "roman-hundred",
   "metadata": {},
   "source": [
    "# Experiment testing\n",
    "\n",
    "## Lecture #4: Non-parametric statistics tests\n",
    "\n",
    "> My name is Box. Box-Cox.\n",
    "\n",
    "In nonparametric tests, we do not rely on specific distribution theorems, we use only information from the sample and make a decision based on it."
   ]
  },
  {
   "cell_type": "markdown",
   "id": "soviet-thomas",
   "metadata": {},
   "source": [
    "## 1. The sign tests"
   ]
  },
  {
   "cell_type": "markdown",
   "id": "fresh-fraction",
   "metadata": {},
   "source": [
    "### 1.1 For one sample\n",
    "\n",
    "$$\n",
    "X_1, \\ldots, X_n \\sim iid\n",
    "$$\n",
    "\n",
    "$$\n",
    "H_0: Med(X) = m_0 \\\\\n",
    "H_1: Med(X) \\neq m_0\n",
    "$$\n",
    "\n",
    "$$\n",
    "T = \\sum_{i=1}^n [X_i > m_0] \\sim Bin(0.5, n)\n",
    "$$"
   ]
  },
  {
   "cell_type": "markdown",
   "id": "limited-boulder",
   "metadata": {},
   "source": [
    "### 1.2 For two related paired samples\n",
    "\n",
    "$$\n",
    "X_1, \\ldots, X_n \\sim iid \\quad Y_1, \\ldots, Y_n \\sim iid\n",
    "$$\n",
    "\n",
    "$$\n",
    "H_0: \\mathbb{P}(X > Y) = 0.5 \\\\\n",
    "H_1: \\mathbb{P}(X > Y) \\neq 0.5\n",
    "$$\n",
    "\n",
    "$$\n",
    "T = \\sum_{i=1}^n [X_i > Y_i] \\sim Bin(0.5, n)\n",
    "$$"
   ]
  },
  {
   "cell_type": "markdown",
   "id": "fatal-valve",
   "metadata": {},
   "source": [
    "---"
   ]
  },
  {
   "cell_type": "markdown",
   "id": "civilian-clearance",
   "metadata": {},
   "source": [
    "## 2. The rank tests"
   ]
  },
  {
   "cell_type": "markdown",
   "id": "built-thumb",
   "metadata": {},
   "source": [
    "### 2.1 The Wilcoxon-test for one sample\n",
    "\n",
    "- $F_X(x)$ symmetric with respect to the median\n",
    "\n",
    "$$\n",
    "X_1, \\ldots, X_n \\sim iid\n",
    "$$\n",
    "\n",
    "$$\n",
    "H_0: Med(X) = m_0 \\\\\n",
    "H_1: Med(X) \\neq m_0\n",
    "$$\n",
    "\n",
    "$$\n",
    "W = \\sum_{i=1}^n rank(|X_i - m_0|) \\cdot sign(X_i - m_o) \\sim_{n \\rightarrow \\infty} \\mathcal{N}(0, \\frac{n \\cdot (n+1) \\cdot (2n + 1)}{6})\n",
    "$$"
   ]
  },
  {
   "cell_type": "markdown",
   "id": "contemporary-heating",
   "metadata": {},
   "source": [
    "### 2.1 The Wilcoxon-test for two related paired samples\n",
    "\n",
    "```python\n",
    "scipy.stats.wilcoxon()\n",
    "```\n",
    "\n",
    "$$\n",
    "X_1, \\ldots, X_n \\sim iid \\quad Y_1, \\ldots, Y_n \\sim iid\n",
    "$$\n",
    "\n",
    "$$\n",
    "H_0: Med(X-Y) = 0 \\\\\n",
    "H_1: Med(X-Y) \\neq 0\n",
    "$$\n",
    "\n",
    "$$\n",
    "W = \\sum_{i=1}^n rank(|X_i - Y_i|) \\cdot sign(X_i - Y_i)\n",
    "$$"
   ]
  },
  {
   "cell_type": "markdown",
   "id": "modular-karaoke",
   "metadata": {},
   "source": [
    "### 2.2 The Mann-Whitneyu test for two unrelated unpaired samples\n",
    "\n",
    "```python\n",
    "scipy.stats.mannwhitneyu()\n",
    "```\n",
    "\n",
    "$$\n",
    "X_1, \\ldots, X_n \\sim iid \\quad Y_1, \\ldots, Y_m \\sim iid \\quad n \\le m\n",
    "$$\n",
    "\n",
    "$$\n",
    "\\begin{aligned}\n",
    "& H_0: f_X(x) = f_Y(y) \\\\\n",
    "& H_1: f_X(x) = f_Y(y + l), l \\neq 0\n",
    "\\end{aligned}\n",
    "$$\n",
    "\n",
    "$$\n",
    "W = \\sum_{i=1}^{n} rank(X_i)\n",
    "$$"
   ]
  },
  {
   "cell_type": "markdown",
   "id": "flush-trainer",
   "metadata": {},
   "source": [
    "---"
   ]
  },
  {
   "cell_type": "markdown",
   "id": "quantitative-fiction",
   "metadata": {},
   "source": [
    "## 3. Conclusion"
   ]
  },
  {
   "cell_type": "markdown",
   "id": "painful-component",
   "metadata": {},
   "source": [
    "With nonparametric criteria, assumptions about the distribution law are not required, we make conclusions based on sample data."
   ]
  }
 ],
 "metadata": {
  "kernelspec": {
   "display_name": "Python 3",
   "language": "python",
   "name": "python3"
  },
  "language_info": {
   "codemirror_mode": {
    "name": "ipython",
    "version": 3
   },
   "file_extension": ".py",
   "mimetype": "text/x-python",
   "name": "python",
   "nbconvert_exporter": "python",
   "pygments_lexer": "ipython3",
   "version": "3.9.2"
  },
  "varInspector": {
   "cols": {
    "lenName": 16,
    "lenType": 16,
    "lenVar": 40
   },
   "kernels_config": {
    "python": {
     "delete_cmd_postfix": "",
     "delete_cmd_prefix": "del ",
     "library": "var_list.py",
     "varRefreshCmd": "print(var_dic_list())"
    },
    "r": {
     "delete_cmd_postfix": ") ",
     "delete_cmd_prefix": "rm(",
     "library": "var_list.r",
     "varRefreshCmd": "cat(var_dic_list()) "
    }
   },
   "types_to_exclude": [
    "module",
    "function",
    "builtin_function_or_method",
    "instance",
    "_Feature"
   ],
   "window_display": false
  }
 },
 "nbformat": 4,
 "nbformat_minor": 5
}
