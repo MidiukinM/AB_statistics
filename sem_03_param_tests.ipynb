{
 "cells": [
  {
   "cell_type": "markdown",
   "id": "acute-alliance",
   "metadata": {},
   "source": [
    "# Experiment testing\n",
    "\n",
    "## Seminar №3: Parametric statistics tests"
   ]
  },
  {
   "cell_type": "markdown",
   "id": "democratic-martin",
   "metadata": {},
   "source": [
    "Parametric tests rely on theorems about the distributions of certain random variables. Since we rely on a specific distribution, we have to calculate its **parameters**."
   ]
  },
  {
   "cell_type": "markdown",
   "id": "whole-miami",
   "metadata": {},
   "source": [
    "## 1. Main theorems"
   ]
  },
  {
   "cell_type": "markdown",
   "id": "enclosed-matrix",
   "metadata": {},
   "source": [
    "### Central limit theorem (CLT)\n",
    "\n",
    "If $X_1, X_2, \\ldots , X_n, \\ldots $ are random variables independently and identically drawn from a population with overall mean $\\mu$ and finite variance $\\sigma^2$, and if $\\bar{X_n}$ is the sample mean of the first $n$ samples, then:\n",
    "\n",
    "$$\n",
    "\\bar{X_n} \\sim_{n \\rightarrow \\infty}^d \\mathcal{N}(\\mu, \\frac{\\sigma^2}{n})\n",
    "$$\n",
    "\n",
    "or:\n",
    "\n",
    "$$\n",
    "\\frac{\\bar{X_n} - \\mu}{\\frac{\\sigma}{\\sqrt n}} \\sim_{n \\rightarrow \\infty} \\mathcal{N}(0, 1)\n",
    "$$"
   ]
  },
  {
   "cell_type": "markdown",
   "id": "dated-savage",
   "metadata": {},
   "source": [
    "### Student's t-distribution theorem\n",
    "\n",
    "If $X_1, \\ldots, X_n$ are independently and identically drawn from the distribution $\\mathcal{N}(\\mu ,\\sigma^2)$. Then:\n",
    "\n",
    "$$\n",
    "\\frac{\\bar{X_n} - \\mu}{\\frac{S}{\\sqrt n}} \\sim t(n-1)\n",
    "$$"
   ]
  },
  {
   "cell_type": "markdown",
   "id": "satisfactory-durham",
   "metadata": {},
   "source": [
    "------"
   ]
  },
  {
   "cell_type": "markdown",
   "id": "fantastic-revelation",
   "metadata": {},
   "source": [
    "## 2. Asymptotic parametric tests\n",
    "\n",
    "- Based on CLT\n",
    "\n",
    "### 2.1 Z-test for proportion\n",
    "\n",
    "$X_1, \\ldots, X_n \\sim iid Bern(p)$\n",
    "\n",
    "$\n",
    "H_0: p = p_0\\\\\n",
    "H_A: p \\neq p_0\n",
    "$\n",
    "\n",
    "$\n",
    "z = \\frac{\\hat p - p_0}{\\sqrt{\\frac{p_0 (1 - p_0)}{n}}} \\sim_{n \\rightarrow \\infty} \\mathcal{N}(0, 1) <> z_{1-\\alpha}\n",
    "$\n",
    "\n",
    "\n",
    "### 2.2 Z-test for mean \n",
    "\n",
    "$X_1, \\ldots, X_n \\sim iid(\\mu, \\sigma^2)$\n",
    "\n",
    "$\n",
    "H_0: \\mu = \\mu_0\\\\\n",
    "H_A: \\mu \\neq \\mu_0\n",
    "$\n",
    "\n",
    "$\n",
    "z = \\frac{\\bar x - \\mu_0}{\\frac{\\sigma}{\\sqrt n}} \\sim_{n \\rightarrow \\infty} \\mathcal{N}(0, 1) <> z_{1-\\alpha}\n",
    "$\n",
    "\n",
    "### 2.3 Z-test for means difference\n",
    "\n",
    "$\n",
    "X_1, \\ldots, X_n \\sim iid(\\mu, \\sigma^2) \\\\\n",
    "Y_1, \\ldots, Y_n \\sim iid(\\mu, \\sigma^2)\n",
    "$\n",
    "\n",
    "$\n",
    "H_0: \\mu_x = \\mu_y \\\\\n",
    "H_A: \\mu_x \\neq \\mu_y\n",
    "$\n",
    "\n",
    "$\n",
    "z = \\frac{\\bar x - \\bar y}{\\sqrt{\\frac{\\sigma_x^2}{n} + \\frac{\\sigma_y^2}{m}}} \\sim_{n \\rightarrow \\infty} \\mathcal{N}(0, 1) <> z_{1-\\alpha}\n",
    "$\n",
    "\n",
    "\n",
    "**Note:** tests require the true variance $\\sigma^2$, if we do not know the variance, then we can estimate it from the sample ($\\hat \\sigma^2$ or $s^2$) as per Law of large numbers. \n",
    "\n",
    "----"
   ]
  },
  {
   "cell_type": "markdown",
   "id": "upper-championship",
   "metadata": {},
   "source": [
    "## 3. Exact parametric tests"
   ]
  },
  {
   "cell_type": "markdown",
   "id": "sweet-science",
   "metadata": {},
   "source": [
    "### 3.1 Z-test for mean with known variance\n",
    "\n",
    "$X_1, \\ldots, X_n \\sim iid \\mathcal{N}(\\mu, \\sigma^2)$\n",
    "\n",
    "$\n",
    "H_0: \\mu = \\mu_0\\\\\n",
    "H_A: \\mu \\neq \\mu_0\n",
    "$\n",
    "\n",
    "$\n",
    "z = \\frac{\\bar x - \\mu_0}{\\frac{\\sigma}{\\sqrt n}} \\sim \\mathcal{N}(0, 1) <> z_{1-\\alpha}\n",
    "$\n",
    "\n",
    "### 3.2 Students t-test for mean with unknown variance\n",
    "\n",
    "$X_1, \\ldots, X_n \\sim iid \\mathcal{N}(\\mu, \\sigma^2)$\n",
    "\n",
    "$\n",
    "H_0: \\mu = \\mu_0\\\\\n",
    "H_A: \\mu \\neq \\mu_0\n",
    "$\n",
    "\n",
    "$\n",
    "t = \\frac{\\bar x - \\mu_0}{\\frac{s}{\\sqrt n}} \\sim t(n-1) <> t_{1-\\alpha}\n",
    "$\n",
    "\n",
    "\n",
    "### 3.3 Z-test for means difference with known variances\n",
    "\n",
    "$\n",
    "X_1, \\ldots, X_n \\sim iid \\mathcal{N}(\\mu, \\sigma^2) \\\\\n",
    "Y_1, \\ldots, Y_n \\sim iid \\mathcal{N}(\\mu, \\sigma^2)\n",
    "$\n",
    "\n",
    "$\n",
    "H_0: \\mu_x = \\mu_y \\\\\n",
    "H_A: \\mu_x \\neq \\mu_y\n",
    "$\n",
    "\n",
    "$\n",
    "z = \\frac{\\bar x - \\bar y}{\\sqrt{\\frac{\\sigma_x^2}{n} + \\frac{\\sigma_y^2}{m}}} \\sim \\mathcal{N}(0, 1) <> z_{1-\\alpha}\n",
    "$\n",
    "\n",
    "### 3.4 Students t-test for means difference with equal unknown variances\n",
    "\n",
    "$\n",
    "X_1, \\ldots, X_n \\sim iid \\mathcal{N}(\\mu, \\sigma^2) \\\\\n",
    "Y_1, \\ldots, Y_n \\sim iid \\mathcal{N}(\\mu, \\sigma^2)\n",
    "$\n",
    "\n",
    "$\n",
    "H_0: \\mu_x = \\mu_y \\\\\n",
    "H_A: \\mu_x \\neq \\mu_y\n",
    "$\n",
    "\n",
    "$\n",
    "t = \\frac{\\bar x - \\bar y}{\\sqrt{\\frac{s^2}{n} + \\frac{s^2}{m}}} \\sim t(n+m-2) <> t_{1-\\alpha}\n",
    "$\n",
    "\n",
    "### 3.5 Welchs t-test for means difference with unequal unknown variances\n",
    "\n",
    "$\n",
    "X_1, \\ldots, X_n \\sim iid \\mathcal{N}(\\mu, \\sigma^2) \\\\\n",
    "Y_1, \\ldots, Y_n \\sim iid \\mathcal{N}(\\mu, \\sigma^2)\n",
    "$\n",
    "\n",
    "$\n",
    "H_0: \\mu_x = \\mu_y \\\\\n",
    "H_A: \\mu_x \\neq \\mu_y\n",
    "$\n",
    "\n",
    "$\n",
    "t = \\frac{\\bar x - \\bar y}{\\sqrt{\\frac{s_x^2}{n} + \\frac{s_y^2}{m}}} \\sim t(v) <> t_{1-\\alpha}\n",
    "$"
   ]
  },
  {
   "cell_type": "code",
   "execution_count": null,
   "id": "built-simple",
   "metadata": {},
   "outputs": [],
   "source": []
  }
 ],
 "metadata": {
  "kernelspec": {
   "display_name": "Python 3",
   "language": "python",
   "name": "python3"
  },
  "language_info": {
   "codemirror_mode": {
    "name": "ipython",
    "version": 3
   },
   "file_extension": ".py",
   "mimetype": "text/x-python",
   "name": "python",
   "nbconvert_exporter": "python",
   "pygments_lexer": "ipython3",
   "version": "3.9.2"
  },
  "varInspector": {
   "cols": {
    "lenName": 16,
    "lenType": 16,
    "lenVar": 40
   },
   "kernels_config": {
    "python": {
     "delete_cmd_postfix": "",
     "delete_cmd_prefix": "del ",
     "library": "var_list.py",
     "varRefreshCmd": "print(var_dic_list())"
    },
    "r": {
     "delete_cmd_postfix": ") ",
     "delete_cmd_prefix": "rm(",
     "library": "var_list.r",
     "varRefreshCmd": "cat(var_dic_list()) "
    }
   },
   "types_to_exclude": [
    "module",
    "function",
    "builtin_function_or_method",
    "instance",
    "_Feature"
   ],
   "window_display": false
  }
 },
 "nbformat": 4,
 "nbformat_minor": 5
}
